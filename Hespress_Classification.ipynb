{
  "nbformat": 4,
  "nbformat_minor": 0,
  "metadata": {
    "colab": {
      "provenance": []
    },
    "kernelspec": {
      "name": "python3",
      "display_name": "Python 3"
    },
    "language_info": {
      "name": "python"
    }
  },
  "cells": [
    {
      "cell_type": "code",
      "execution_count": 21,
      "metadata": {
        "colab": {
          "base_uri": "https://localhost:8080/"
        },
        "id": "PGIpAfSNdK3X",
        "outputId": "0d9b1943-4b27-4803-d0cf-69a21b0469c3"
      },
      "outputs": [
        {
          "output_type": "stream",
          "name": "stderr",
          "text": [
            "<ipython-input-21-d5288a05bf83>:15: FutureWarning: The error_bad_lines argument has been deprecated and will be removed in a future version. Use on_bad_lines in the future.\n",
            "\n",
            "\n",
            "  df = pd.read_csv(os.path.join(data_folder, file), encoding='latin-1', error_bad_lines=False)\n",
            "<ipython-input-21-d5288a05bf83>:15: FutureWarning: The error_bad_lines argument has been deprecated and will be removed in a future version. Use on_bad_lines in the future.\n",
            "\n",
            "\n",
            "  df = pd.read_csv(os.path.join(data_folder, file), encoding='latin-1', error_bad_lines=False)\n",
            "<ipython-input-21-d5288a05bf83>:15: FutureWarning: The error_bad_lines argument has been deprecated and will be removed in a future version. Use on_bad_lines in the future.\n",
            "\n",
            "\n",
            "  df = pd.read_csv(os.path.join(data_folder, file), encoding='latin-1', error_bad_lines=False)\n",
            "<ipython-input-21-d5288a05bf83>:15: FutureWarning: The error_bad_lines argument has been deprecated and will be removed in a future version. Use on_bad_lines in the future.\n",
            "\n",
            "\n",
            "  df = pd.read_csv(os.path.join(data_folder, file), encoding='latin-1', error_bad_lines=False)\n",
            "<ipython-input-21-d5288a05bf83>:15: FutureWarning: The error_bad_lines argument has been deprecated and will be removed in a future version. Use on_bad_lines in the future.\n",
            "\n",
            "\n",
            "  df = pd.read_csv(os.path.join(data_folder, file), encoding='latin-1', error_bad_lines=False)\n",
            "<ipython-input-21-d5288a05bf83>:15: FutureWarning: The error_bad_lines argument has been deprecated and will be removed in a future version. Use on_bad_lines in the future.\n",
            "\n",
            "\n",
            "  df = pd.read_csv(os.path.join(data_folder, file), encoding='latin-1', error_bad_lines=False)\n",
            "<ipython-input-21-d5288a05bf83>:15: FutureWarning: The error_bad_lines argument has been deprecated and will be removed in a future version. Use on_bad_lines in the future.\n",
            "\n",
            "\n",
            "  df = pd.read_csv(os.path.join(data_folder, file), encoding='latin-1', error_bad_lines=False)\n"
          ]
        },
        {
          "output_type": "stream",
          "name": "stdout",
          "text": [
            "ParserError: Error tokenizing data. C error: EOF inside string starting at row 642, Skipping file: stories_orbites.csv\n"
          ]
        },
        {
          "output_type": "stream",
          "name": "stderr",
          "text": [
            "<ipython-input-21-d5288a05bf83>:15: FutureWarning: The error_bad_lines argument has been deprecated and will be removed in a future version. Use on_bad_lines in the future.\n",
            "\n",
            "\n",
            "  df = pd.read_csv(os.path.join(data_folder, file), encoding='latin-1', error_bad_lines=False)\n",
            "<ipython-input-21-d5288a05bf83>:15: FutureWarning: The error_bad_lines argument has been deprecated and will be removed in a future version. Use on_bad_lines in the future.\n",
            "\n",
            "\n",
            "  df = pd.read_csv(os.path.join(data_folder, file), encoding='latin-1', error_bad_lines=False)\n",
            "<ipython-input-21-d5288a05bf83>:15: FutureWarning: The error_bad_lines argument has been deprecated and will be removed in a future version. Use on_bad_lines in the future.\n",
            "\n",
            "\n",
            "  df = pd.read_csv(os.path.join(data_folder, file), encoding='latin-1', error_bad_lines=False)\n"
          ]
        },
        {
          "output_type": "stream",
          "name": "stdout",
          "text": [
            "Classification Report:\n",
            "                    precision    recall  f1-score   support\n",
            "\n",
            "    art-et-culture       0.68      0.30      0.42       200\n",
            "          economie       0.57      0.46      0.51       200\n",
            "      faits-divers       0.91      0.46      0.61       200\n",
            "marocains-du-monde       0.73      0.42      0.53       200\n",
            "            medias       0.25      0.74      0.37       200\n",
            "         politique       0.37      0.70      0.48       200\n",
            "           regions       0.60      0.36      0.45       200\n",
            "           societe       0.52      0.12      0.20       200\n",
            "             sport       0.73      0.50      0.59       200\n",
            "         tamazight       0.71      0.88      0.78       200\n",
            "\n",
            "          accuracy                           0.49      2000\n",
            "         macro avg       0.61      0.49      0.49      2000\n",
            "      weighted avg       0.61      0.49      0.49      2000\n",
            "\n",
            "Accuracy: 0.494\n"
          ]
        }
      ],
      "source": [
        "import os\n",
        "import pandas as pd\n",
        "from sklearn.model_selection import train_test_split\n",
        "from sklearn.feature_extraction.text import TfidfVectorizer\n",
        "from sklearn.naive_bayes import MultinomialNB\n",
        "from sklearn.metrics import classification_report, accuracy_score\n",
        "\n",
        "# Step 1: Load and preprocess the data\n",
        "data_folder = '/content/stories'\n",
        "csv_files = [file for file in os.listdir(data_folder) if file.startswith('stories')]\n",
        "\n",
        "dfs = []\n",
        "for file in csv_files:\n",
        "    try:\n",
        "        df = pd.read_csv(os.path.join(data_folder, file), encoding='latin-1', error_bad_lines=False)\n",
        "        # Drop the 'sequence' column by index\n",
        "        df.drop(df.columns[0], axis=1, inplace=True)\n",
        "        dfs.append(df)\n",
        "    except pd.errors.ParserError as e:\n",
        "        print(f\"ParserError: {e}, Skipping file: {file}\")\n",
        "\n",
        "# Combine all DataFrames into one\n",
        "data = pd.concat(dfs, ignore_index=True)\n",
        "\n",
        "\n",
        "# Step 2: Split the data into training and test sets\n",
        "X = data['story']  # Text input\n",
        "y = data['topic']  # Target variable\n",
        "\n",
        "# Use the last 20% of each file as the test set\n",
        "X_train, X_test, y_train, y_test = train_test_split(X, y, test_size=0.2, stratify=y, random_state=42)\n",
        "\n",
        "# Step 3: Feature extraction (using TF-IDF)\n",
        "vectorizer = TfidfVectorizer(max_features=5000)\n",
        "X_train_tfidf = vectorizer.fit_transform(X_train)\n",
        "X_test_tfidf = vectorizer.transform(X_test)\n",
        "\n",
        "# Step 4: Train a Naive Bayes classifier\n",
        "classifier = MultinomialNB()\n",
        "classifier.fit(X_train_tfidf, y_train)\n",
        "\n",
        "# Step 5: Make predictions on the test set\n",
        "y_pred = classifier.predict(X_test_tfidf)\n",
        "\n",
        "# Step 6: Evaluate the classifier's performance\n",
        "print(\"Classification Report:\")\n",
        "print(classification_report(y_test, y_pred))\n",
        "\n",
        "accuracy = accuracy_score(y_test, y_pred)\n",
        "print(f\"Accuracy: {accuracy}\")\n"
      ]
    }
  ]
}